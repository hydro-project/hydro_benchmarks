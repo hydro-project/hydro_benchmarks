{
 "cells": [
  {
   "cell_type": "code",
   "execution_count": 1,
   "metadata": {},
   "outputs": [],
   "source": [
    "import duckdb\n",
    "import pandas as pd\n",
    "\n",
    "%load_ext sql\n",
    "# Connect to an in-memory database\n",
    "conn = duckdb.connect()\n",
    "%sql conn --alias duckdb"
   ]
  },
  {
   "cell_type": "code",
   "execution_count": 2,
   "metadata": {},
   "outputs": [
    {
     "data": {
      "text/html": [
       "<span style=\"None\">Running query in &#x27;duckdb&#x27;</span>"
      ],
      "text/plain": [
       "Running query in 'duckdb'"
      ]
     },
     "metadata": {},
     "output_type": "display_data"
    },
    {
     "data": {
      "text/html": [
       "<span style=\"None\">Running query in &#x27;duckdb&#x27;</span>"
      ],
      "text/plain": [
       "Running query in 'duckdb'"
      ]
     },
     "metadata": {},
     "output_type": "display_data"
    },
    {
     "data": {
      "text/html": [
       "<span style=\"None\">Running query in &#x27;duckdb&#x27;</span>"
      ],
      "text/plain": [
       "Running query in 'duckdb'"
      ]
     },
     "metadata": {},
     "output_type": "display_data"
    },
    {
     "data": {
      "text/html": [
       "<table>\n",
       "    <thead>\n",
       "        <tr>\n",
       "            <th>Success</th>\n",
       "        </tr>\n",
       "    </thead>\n",
       "    <tbody>\n",
       "    </tbody>\n",
       "</table>"
      ],
      "text/plain": [
       "+---------+\n",
       "| Success |\n",
       "+---------+\n",
       "+---------+"
      ]
     },
     "execution_count": 2,
     "metadata": {},
     "output_type": "execute_result"
    }
   ],
   "source": [
    "# Initialize TPCH extension (it should come with the duckdb installation)\n",
    "%sql CREATE OR REPLACE SCHEMA SF_1;\n",
    "%sql USE SF_1;\n",
    "%sql CALL dbgen(sf =1)"
   ]
  },
  {
   "cell_type": "code",
   "execution_count": 3,
   "metadata": {},
   "outputs": [
    {
     "data": {
      "text/html": [
       "<span style=\"None\">Running query in &#x27;duckdb&#x27;</span>"
      ],
      "text/plain": [
       "Running query in 'duckdb'"
      ]
     },
     "metadata": {},
     "output_type": "display_data"
    },
    {
     "data": {
      "text/html": [
       "<table>\n",
       "    <thead>\n",
       "        <tr>\n",
       "            <th>name</th>\n",
       "        </tr>\n",
       "    </thead>\n",
       "    <tbody>\n",
       "        <tr>\n",
       "            <td>customer</td>\n",
       "        </tr>\n",
       "        <tr>\n",
       "            <td>lineitem</td>\n",
       "        </tr>\n",
       "        <tr>\n",
       "            <td>nation</td>\n",
       "        </tr>\n",
       "        <tr>\n",
       "            <td>orders</td>\n",
       "        </tr>\n",
       "        <tr>\n",
       "            <td>part</td>\n",
       "        </tr>\n",
       "        <tr>\n",
       "            <td>partsupp</td>\n",
       "        </tr>\n",
       "        <tr>\n",
       "            <td>region</td>\n",
       "        </tr>\n",
       "        <tr>\n",
       "            <td>supplier</td>\n",
       "        </tr>\n",
       "    </tbody>\n",
       "</table>"
      ],
      "text/plain": [
       "+----------+\n",
       "|   name   |\n",
       "+----------+\n",
       "| customer |\n",
       "| lineitem |\n",
       "|  nation  |\n",
       "|  orders  |\n",
       "|   part   |\n",
       "| partsupp |\n",
       "|  region  |\n",
       "| supplier |\n",
       "+----------+"
      ]
     },
     "execution_count": 3,
     "metadata": {},
     "output_type": "execute_result"
    }
   ],
   "source": [
    "%sql show tables;"
   ]
  },
  {
   "cell_type": "code",
   "execution_count": 4,
   "metadata": {},
   "outputs": [
    {
     "name": "stdout",
     "output_type": "stream",
     "text": [
      "SELECT\n",
      "    sum(l_extendedprice * (1 - l_discount)) AS revenue\n",
      "FROM\n",
      "    lineitem,\n",
      "    part\n",
      "WHERE (p_partkey = l_partkey\n",
      "    AND p_brand = 'Brand#12'\n",
      "    AND p_container IN ('SM CASE', 'SM BOX', 'SM PACK', 'SM PKG')\n",
      "    AND l_quantity >= 1\n",
      "    AND l_quantity <= 1 + 10\n",
      "    AND p_size BETWEEN 1 AND 5\n",
      "    AND l_shipmode IN ('AIR', 'AIR REG')\n",
      "    AND l_shipinstruct = 'DELIVER IN PERSON')\n",
      "    OR (p_partkey = l_partkey\n",
      "        AND p_brand = 'Brand#23'\n",
      "        AND p_container IN ('MED BAG', 'MED BOX', 'MED PKG', 'MED PACK')\n",
      "        AND l_quantity >= 10\n",
      "        AND l_quantity <= 10 + 10\n",
      "        AND p_size BETWEEN 1 AND 10\n",
      "        AND l_shipmode IN ('AIR', 'AIR REG')\n",
      "        AND l_shipinstruct = 'DELIVER IN PERSON')\n",
      "    OR (p_partkey = l_partkey\n",
      "        AND p_brand = 'Brand#34'\n",
      "        AND p_container IN ('LG CASE', 'LG BOX', 'LG PACK', 'LG PKG')\n",
      "        AND l_quantity >= 20\n",
      "        AND l_quantity <= 20 + 10\n",
      "        AND p_size BETWEEN 1 AND 15\n",
      "        AND l_shipmode IN ('AIR', 'AIR REG')\n",
      "        AND l_shipinstruct = 'DELIVER IN PERSON');\n",
      "\n"
     ]
    }
   ],
   "source": [
    "#%sql FROM tpch_queries();\n",
    "res = conn.sql('FROM tpch_queries()').df()\n",
    "query = res.iloc[18]['query']\n",
    "print(query)"
   ]
  },
  {
   "cell_type": "code",
   "execution_count": 9,
   "metadata": {},
   "outputs": [
    {
     "data": {
      "text/html": [
       "<table>\n",
       "    <thead>\n",
       "        <tr>\n",
       "            <th>column_name</th>\n",
       "            <th>column_type</th>\n",
       "            <th>null</th>\n",
       "            <th>key</th>\n",
       "            <th>default</th>\n",
       "            <th>extra</th>\n",
       "        </tr>\n",
       "    </thead>\n",
       "    <tbody>\n",
       "        <tr>\n",
       "            <td>l_orderkey</td>\n",
       "            <td>BIGINT</td>\n",
       "            <td>NO</td>\n",
       "            <td>None</td>\n",
       "            <td>None</td>\n",
       "            <td>None</td>\n",
       "        </tr>\n",
       "        <tr>\n",
       "            <td>l_partkey</td>\n",
       "            <td>BIGINT</td>\n",
       "            <td>NO</td>\n",
       "            <td>None</td>\n",
       "            <td>None</td>\n",
       "            <td>None</td>\n",
       "        </tr>\n",
       "        <tr>\n",
       "            <td>l_suppkey</td>\n",
       "            <td>BIGINT</td>\n",
       "            <td>NO</td>\n",
       "            <td>None</td>\n",
       "            <td>None</td>\n",
       "            <td>None</td>\n",
       "        </tr>\n",
       "        <tr>\n",
       "            <td>l_linenumber</td>\n",
       "            <td>BIGINT</td>\n",
       "            <td>NO</td>\n",
       "            <td>None</td>\n",
       "            <td>None</td>\n",
       "            <td>None</td>\n",
       "        </tr>\n",
       "        <tr>\n",
       "            <td>l_quantity</td>\n",
       "            <td>DECIMAL(15,2)</td>\n",
       "            <td>NO</td>\n",
       "            <td>None</td>\n",
       "            <td>None</td>\n",
       "            <td>None</td>\n",
       "        </tr>\n",
       "        <tr>\n",
       "            <td>l_extendedprice</td>\n",
       "            <td>DECIMAL(15,2)</td>\n",
       "            <td>NO</td>\n",
       "            <td>None</td>\n",
       "            <td>None</td>\n",
       "            <td>None</td>\n",
       "        </tr>\n",
       "        <tr>\n",
       "            <td>l_discount</td>\n",
       "            <td>DECIMAL(15,2)</td>\n",
       "            <td>NO</td>\n",
       "            <td>None</td>\n",
       "            <td>None</td>\n",
       "            <td>None</td>\n",
       "        </tr>\n",
       "        <tr>\n",
       "            <td>l_tax</td>\n",
       "            <td>DECIMAL(15,2)</td>\n",
       "            <td>NO</td>\n",
       "            <td>None</td>\n",
       "            <td>None</td>\n",
       "            <td>None</td>\n",
       "        </tr>\n",
       "        <tr>\n",
       "            <td>l_returnflag</td>\n",
       "            <td>VARCHAR</td>\n",
       "            <td>NO</td>\n",
       "            <td>None</td>\n",
       "            <td>None</td>\n",
       "            <td>None</td>\n",
       "        </tr>\n",
       "        <tr>\n",
       "            <td>l_linestatus</td>\n",
       "            <td>VARCHAR</td>\n",
       "            <td>NO</td>\n",
       "            <td>None</td>\n",
       "            <td>None</td>\n",
       "            <td>None</td>\n",
       "        </tr>\n",
       "        <tr>\n",
       "            <td>l_shipdate</td>\n",
       "            <td>DATE</td>\n",
       "            <td>NO</td>\n",
       "            <td>None</td>\n",
       "            <td>None</td>\n",
       "            <td>None</td>\n",
       "        </tr>\n",
       "        <tr>\n",
       "            <td>l_commitdate</td>\n",
       "            <td>DATE</td>\n",
       "            <td>NO</td>\n",
       "            <td>None</td>\n",
       "            <td>None</td>\n",
       "            <td>None</td>\n",
       "        </tr>\n",
       "        <tr>\n",
       "            <td>l_receiptdate</td>\n",
       "            <td>DATE</td>\n",
       "            <td>NO</td>\n",
       "            <td>None</td>\n",
       "            <td>None</td>\n",
       "            <td>None</td>\n",
       "        </tr>\n",
       "        <tr>\n",
       "            <td>l_shipinstruct</td>\n",
       "            <td>VARCHAR</td>\n",
       "            <td>NO</td>\n",
       "            <td>None</td>\n",
       "            <td>None</td>\n",
       "            <td>None</td>\n",
       "        </tr>\n",
       "        <tr>\n",
       "            <td>l_shipmode</td>\n",
       "            <td>VARCHAR</td>\n",
       "            <td>NO</td>\n",
       "            <td>None</td>\n",
       "            <td>None</td>\n",
       "            <td>None</td>\n",
       "        </tr>\n",
       "        <tr>\n",
       "            <td>l_comment</td>\n",
       "            <td>VARCHAR</td>\n",
       "            <td>NO</td>\n",
       "            <td>None</td>\n",
       "            <td>None</td>\n",
       "            <td>None</td>\n",
       "        </tr>\n",
       "    </tbody>\n",
       "</table>"
      ],
      "text/plain": [
       "+-----------------+---------------+------+------+---------+-------+\n",
       "|   column_name   |  column_type  | null | key  | default | extra |\n",
       "+-----------------+---------------+------+------+---------+-------+\n",
       "|    l_orderkey   |     BIGINT    |  NO  | None |   None  |  None |\n",
       "|    l_partkey    |     BIGINT    |  NO  | None |   None  |  None |\n",
       "|    l_suppkey    |     BIGINT    |  NO  | None |   None  |  None |\n",
       "|   l_linenumber  |     BIGINT    |  NO  | None |   None  |  None |\n",
       "|    l_quantity   | DECIMAL(15,2) |  NO  | None |   None  |  None |\n",
       "| l_extendedprice | DECIMAL(15,2) |  NO  | None |   None  |  None |\n",
       "|    l_discount   | DECIMAL(15,2) |  NO  | None |   None  |  None |\n",
       "|      l_tax      | DECIMAL(15,2) |  NO  | None |   None  |  None |\n",
       "|   l_returnflag  |    VARCHAR    |  NO  | None |   None  |  None |\n",
       "|   l_linestatus  |    VARCHAR    |  NO  | None |   None  |  None |\n",
       "|    l_shipdate   |      DATE     |  NO  | None |   None  |  None |\n",
       "|   l_commitdate  |      DATE     |  NO  | None |   None  |  None |\n",
       "|  l_receiptdate  |      DATE     |  NO  | None |   None  |  None |\n",
       "|  l_shipinstruct |    VARCHAR    |  NO  | None |   None  |  None |\n",
       "|    l_shipmode   |    VARCHAR    |  NO  | None |   None  |  None |\n",
       "|    l_comment    |    VARCHAR    |  NO  | None |   None  |  None |\n",
       "+-----------------+---------------+------+------+---------+-------+"
      ]
     },
     "execution_count": 9,
     "metadata": {},
     "output_type": "execute_result"
    }
   ],
   "source": [
    "%sql DESCRIBE lineitem;"
   ]
  },
  {
   "cell_type": "code",
   "execution_count": 11,
   "metadata": {},
   "outputs": [
    {
     "data": {
      "text/html": [
       "<table>\n",
       "    <thead>\n",
       "        <tr>\n",
       "            <th>column_name</th>\n",
       "            <th>column_type</th>\n",
       "            <th>null</th>\n",
       "            <th>key</th>\n",
       "            <th>default</th>\n",
       "            <th>extra</th>\n",
       "        </tr>\n",
       "    </thead>\n",
       "    <tbody>\n",
       "        <tr>\n",
       "            <td>o_orderkey</td>\n",
       "            <td>BIGINT</td>\n",
       "            <td>NO</td>\n",
       "            <td>None</td>\n",
       "            <td>None</td>\n",
       "            <td>None</td>\n",
       "        </tr>\n",
       "        <tr>\n",
       "            <td>o_custkey</td>\n",
       "            <td>BIGINT</td>\n",
       "            <td>NO</td>\n",
       "            <td>None</td>\n",
       "            <td>None</td>\n",
       "            <td>None</td>\n",
       "        </tr>\n",
       "        <tr>\n",
       "            <td>o_orderstatus</td>\n",
       "            <td>VARCHAR</td>\n",
       "            <td>NO</td>\n",
       "            <td>None</td>\n",
       "            <td>None</td>\n",
       "            <td>None</td>\n",
       "        </tr>\n",
       "        <tr>\n",
       "            <td>o_totalprice</td>\n",
       "            <td>DECIMAL(15,2)</td>\n",
       "            <td>NO</td>\n",
       "            <td>None</td>\n",
       "            <td>None</td>\n",
       "            <td>None</td>\n",
       "        </tr>\n",
       "        <tr>\n",
       "            <td>o_orderdate</td>\n",
       "            <td>DATE</td>\n",
       "            <td>NO</td>\n",
       "            <td>None</td>\n",
       "            <td>None</td>\n",
       "            <td>None</td>\n",
       "        </tr>\n",
       "        <tr>\n",
       "            <td>o_orderpriority</td>\n",
       "            <td>VARCHAR</td>\n",
       "            <td>NO</td>\n",
       "            <td>None</td>\n",
       "            <td>None</td>\n",
       "            <td>None</td>\n",
       "        </tr>\n",
       "        <tr>\n",
       "            <td>o_clerk</td>\n",
       "            <td>VARCHAR</td>\n",
       "            <td>NO</td>\n",
       "            <td>None</td>\n",
       "            <td>None</td>\n",
       "            <td>None</td>\n",
       "        </tr>\n",
       "        <tr>\n",
       "            <td>o_shippriority</td>\n",
       "            <td>INTEGER</td>\n",
       "            <td>NO</td>\n",
       "            <td>None</td>\n",
       "            <td>None</td>\n",
       "            <td>None</td>\n",
       "        </tr>\n",
       "        <tr>\n",
       "            <td>o_comment</td>\n",
       "            <td>VARCHAR</td>\n",
       "            <td>NO</td>\n",
       "            <td>None</td>\n",
       "            <td>None</td>\n",
       "            <td>None</td>\n",
       "        </tr>\n",
       "    </tbody>\n",
       "</table>"
      ],
      "text/plain": [
       "+-----------------+---------------+------+------+---------+-------+\n",
       "|   column_name   |  column_type  | null | key  | default | extra |\n",
       "+-----------------+---------------+------+------+---------+-------+\n",
       "|    o_orderkey   |     BIGINT    |  NO  | None |   None  |  None |\n",
       "|    o_custkey    |     BIGINT    |  NO  | None |   None  |  None |\n",
       "|  o_orderstatus  |    VARCHAR    |  NO  | None |   None  |  None |\n",
       "|   o_totalprice  | DECIMAL(15,2) |  NO  | None |   None  |  None |\n",
       "|   o_orderdate   |      DATE     |  NO  | None |   None  |  None |\n",
       "| o_orderpriority |    VARCHAR    |  NO  | None |   None  |  None |\n",
       "|     o_clerk     |    VARCHAR    |  NO  | None |   None  |  None |\n",
       "|  o_shippriority |    INTEGER    |  NO  | None |   None  |  None |\n",
       "|    o_comment    |    VARCHAR    |  NO  | None |   None  |  None |\n",
       "+-----------------+---------------+------+------+---------+-------+"
      ]
     },
     "execution_count": 11,
     "metadata": {},
     "output_type": "execute_result"
    }
   ],
   "source": [
    "%sql DESCRIBE orders;"
   ]
  },
  {
   "cell_type": "code",
   "execution_count": 5,
   "metadata": {},
   "outputs": [
    {
     "data": {
      "text/html": [
       "<span style=\"None\">Running query in &#x27;duckdb&#x27;</span>"
      ],
      "text/plain": [
       "Running query in 'duckdb'"
      ]
     },
     "metadata": {},
     "output_type": "display_data"
    },
    {
     "data": {
      "text/html": [
       "<table>\n",
       "    <thead>\n",
       "        <tr>\n",
       "            <th>column_name</th>\n",
       "            <th>column_type</th>\n",
       "            <th>null</th>\n",
       "            <th>key</th>\n",
       "            <th>default</th>\n",
       "            <th>extra</th>\n",
       "        </tr>\n",
       "    </thead>\n",
       "    <tbody>\n",
       "        <tr>\n",
       "            <td>p_partkey</td>\n",
       "            <td>BIGINT</td>\n",
       "            <td>NO</td>\n",
       "            <td>None</td>\n",
       "            <td>None</td>\n",
       "            <td>None</td>\n",
       "        </tr>\n",
       "        <tr>\n",
       "            <td>p_name</td>\n",
       "            <td>VARCHAR</td>\n",
       "            <td>NO</td>\n",
       "            <td>None</td>\n",
       "            <td>None</td>\n",
       "            <td>None</td>\n",
       "        </tr>\n",
       "        <tr>\n",
       "            <td>p_mfgr</td>\n",
       "            <td>VARCHAR</td>\n",
       "            <td>NO</td>\n",
       "            <td>None</td>\n",
       "            <td>None</td>\n",
       "            <td>None</td>\n",
       "        </tr>\n",
       "        <tr>\n",
       "            <td>p_brand</td>\n",
       "            <td>VARCHAR</td>\n",
       "            <td>NO</td>\n",
       "            <td>None</td>\n",
       "            <td>None</td>\n",
       "            <td>None</td>\n",
       "        </tr>\n",
       "        <tr>\n",
       "            <td>p_type</td>\n",
       "            <td>VARCHAR</td>\n",
       "            <td>NO</td>\n",
       "            <td>None</td>\n",
       "            <td>None</td>\n",
       "            <td>None</td>\n",
       "        </tr>\n",
       "        <tr>\n",
       "            <td>p_size</td>\n",
       "            <td>INTEGER</td>\n",
       "            <td>NO</td>\n",
       "            <td>None</td>\n",
       "            <td>None</td>\n",
       "            <td>None</td>\n",
       "        </tr>\n",
       "        <tr>\n",
       "            <td>p_container</td>\n",
       "            <td>VARCHAR</td>\n",
       "            <td>NO</td>\n",
       "            <td>None</td>\n",
       "            <td>None</td>\n",
       "            <td>None</td>\n",
       "        </tr>\n",
       "        <tr>\n",
       "            <td>p_retailprice</td>\n",
       "            <td>DECIMAL(15,2)</td>\n",
       "            <td>NO</td>\n",
       "            <td>None</td>\n",
       "            <td>None</td>\n",
       "            <td>None</td>\n",
       "        </tr>\n",
       "        <tr>\n",
       "            <td>p_comment</td>\n",
       "            <td>VARCHAR</td>\n",
       "            <td>NO</td>\n",
       "            <td>None</td>\n",
       "            <td>None</td>\n",
       "            <td>None</td>\n",
       "        </tr>\n",
       "    </tbody>\n",
       "</table>"
      ],
      "text/plain": [
       "+---------------+---------------+------+------+---------+-------+\n",
       "|  column_name  |  column_type  | null | key  | default | extra |\n",
       "+---------------+---------------+------+------+---------+-------+\n",
       "|   p_partkey   |     BIGINT    |  NO  | None |   None  |  None |\n",
       "|     p_name    |    VARCHAR    |  NO  | None |   None  |  None |\n",
       "|     p_mfgr    |    VARCHAR    |  NO  | None |   None  |  None |\n",
       "|    p_brand    |    VARCHAR    |  NO  | None |   None  |  None |\n",
       "|     p_type    |    VARCHAR    |  NO  | None |   None  |  None |\n",
       "|     p_size    |    INTEGER    |  NO  | None |   None  |  None |\n",
       "|  p_container  |    VARCHAR    |  NO  | None |   None  |  None |\n",
       "| p_retailprice | DECIMAL(15,2) |  NO  | None |   None  |  None |\n",
       "|   p_comment   |    VARCHAR    |  NO  | None |   None  |  None |\n",
       "+---------------+---------------+------+------+---------+-------+"
      ]
     },
     "execution_count": 5,
     "metadata": {},
     "output_type": "execute_result"
    }
   ],
   "source": [
    "%sql DESCRIBE part;"
   ]
  },
  {
   "cell_type": "code",
   "execution_count": 15,
   "metadata": {},
   "outputs": [],
   "source": [
    "# Configure cell to output plain text\n",
    "%config SqlMagic.displaycon = True\n",
    "%config SqlMagic.displaylimit = 100"
   ]
  },
  {
   "cell_type": "code",
   "execution_count": 4,
   "metadata": {},
   "outputs": [
    {
     "data": {
      "text/html": [
       "<span style=\"None\">Running query in &#x27;duckdb&#x27;</span>"
      ],
      "text/plain": [
       "Running query in 'duckdb'"
      ]
     },
     "metadata": {},
     "output_type": "display_data"
    },
    {
     "data": {
      "text/html": [
       "<table>\n",
       "    <thead>\n",
       "        <tr>\n",
       "            <th>date</th>\n",
       "        </tr>\n",
       "    </thead>\n",
       "    <tbody>\n",
       "        <tr>\n",
       "            <td>1992-03-22</td>\n",
       "        </tr>\n",
       "    </tbody>\n",
       "</table>"
      ],
      "text/plain": [
       "+------------+\n",
       "|    date    |\n",
       "+------------+\n",
       "| 1992-03-22 |\n",
       "+------------+"
      ]
     },
     "execution_count": 4,
     "metadata": {},
     "output_type": "execute_result"
    }
   ],
   "source": [
    "%sql SELECT DATE '1992-03-22' as date;"
   ]
  },
  {
   "cell_type": "code",
   "execution_count": 17,
   "metadata": {},
   "outputs": [
    {
     "data": {
      "text/html": [
       "<span style=\"None\">Running query in &#x27;duckdb&#x27;</span>"
      ],
      "text/plain": [
       "Running query in 'duckdb'"
      ]
     },
     "metadata": {},
     "output_type": "display_data"
    },
    {
     "data": {
      "text/html": [
       "<table>\n",
       "    <thead>\n",
       "        <tr>\n",
       "            <th>explain_key</th>\n",
       "            <th>explain_value</th>\n",
       "        </tr>\n",
       "    </thead>\n",
       "    <tbody>\n",
       "        <tr>\n",
       "            <td>physical_plan</td>\n",
       "            <td>┌───────────────────────────┐                                                                                       <br>│         PROJECTION        │                                                                                       <br>│   ─ ─ ─ ─ ─ ─ ─ ─ ─ ─ ─   │                                                                                       <br>│__internal_decompress_strin│                                                                                       <br>│           g(#0)           │                                                                                       <br>│             #1            │                                                                                       <br>└─────────────┬─────────────┘                                                                                                                    <br>┌─────────────┴─────────────┐                                                                                       <br>│          ORDER_BY         │                                                                                       <br>│   ─ ─ ─ ─ ─ ─ ─ ─ ─ ─ ─   │                                                                                       <br>│          ORDERS:          │                                                                                       <br>│ orders.o_orderpriority ASC│                                                                                       <br>└─────────────┬─────────────┘                                                                                                                    <br>┌─────────────┴─────────────┐                                                                                       <br>│         PROJECTION        │                                                                                       <br>│   ─ ─ ─ ─ ─ ─ ─ ─ ─ ─ ─   │                                                                                       <br>│__internal_compress_string_│                                                                                       <br>│        hugeint(#0)        │                                                                                       <br>│             #1            │                                                                                       <br>└─────────────┬─────────────┘                                                                                                                    <br>┌─────────────┴─────────────┐                                                                                       <br>│         PROJECTION        │                                                                                       <br>│   ─ ─ ─ ─ ─ ─ ─ ─ ─ ─ ─   │                                                                                       <br>│__internal_decompress_strin│                                                                                       <br>│           g(#0)           │                                                                                       <br>│             #1            │                                                                                       <br>└─────────────┬─────────────┘                                                                                                                    <br>┌─────────────┴─────────────┐                                                                                       <br>│       HASH_GROUP_BY       │                                                                                       <br>│   ─ ─ ─ ─ ─ ─ ─ ─ ─ ─ ─   │                                                                                       <br>│             #0            │                                                                                       <br>│        count_star()       │                                                                                       <br>└─────────────┬─────────────┘                                                                                                                    <br>┌─────────────┴─────────────┐                                                                                       <br>│         PROJECTION        │                                                                                       <br>│   ─ ─ ─ ─ ─ ─ ─ ─ ─ ─ ─   │                                                                                       <br>│      o_orderpriority      │                                                                                       <br>└─────────────┬─────────────┘                                                                                                                    <br>┌─────────────┴─────────────┐                                                                                       <br>│         PROJECTION        │                                                                                       <br>│   ─ ─ ─ ─ ─ ─ ─ ─ ─ ─ ─   │                                                                                       <br>│__internal_compress_integra│                                                                                       <br>│     l_uinteger(#0, 1)     │                                                                                       <br>│__internal_compress_string_│                                                                                       <br>│        hugeint(#1)        │                                                                                       <br>└─────────────┬─────────────┘                                                                                                                    <br>┌─────────────┴─────────────┐                                                                                       <br>│      RIGHT_DELIM_JOIN     │                                                                                       <br>│   ─ ─ ─ ─ ─ ─ ─ ─ ─ ─ ─   │                                                                                       <br>│         RIGHT_SEMI        │                                                                                       <br>│ o_orderkey IS NOT DISTINCT├──────────────┐                                                                        <br>│       FROM o_orderkey     │              │                                                                        <br>│   ─ ─ ─ ─ ─ ─ ─ ─ ─ ─ ─   │              │                                                                        <br>│        EC: 1200243        │              │                                                                        <br>└─────────────┬─────────────┘              │                                                                                                     <br>┌─────────────┴─────────────┐┌─────────────┴─────────────┐                                                          <br>│         SEQ_SCAN          ││         HASH_JOIN         │                                                          <br>│   ─ ─ ─ ─ ─ ─ ─ ─ ─ ─ ─   ││   ─ ─ ─ ─ ─ ─ ─ ─ ─ ─ ─   │                                                          <br>│           orders          ││         RIGHT_SEMI        │                                                          <br>│   ─ ─ ─ ─ ─ ─ ─ ─ ─ ─ ─   ││ o_orderkey IS NOT DISTINCT│                                                          <br>│         o_orderkey        ││       FROM o_orderkey     │                                                          <br>│      o_orderpriority      ││   ─ ─ ─ ─ ─ ─ ─ ─ ─ ─ ─   │                                                          <br>│   ─ ─ ─ ─ ─ ─ ─ ─ ─ ─ ─   ││        EC: 1200243        ├───────────────────────────────────────────┐              <br>│Filters: o_orderdate>='1993││                           │                                           │              <br>│     -07-01'::DATE AND     ││                           │                                           │              <br>│ o_orderdate<'1993-10-...  ││                           │                                           │              <br>│   o_orderdate IS NOT NULL ││                           │                                           │              <br>│   ─ ─ ─ ─ ─ ─ ─ ─ ─ ─ ─   ││                           │                                           │              <br>│         EC: 300000        ││                           │                                           │              <br>└───────────────────────────┘└─────────────┬─────────────┘                                           │                                           <br>                             ┌─────────────┴─────────────┐                             ┌─────────────┴─────────────┐<br>                             │         PROJECTION        │                             │         DUMMY_SCAN        │<br>                             │   ─ ─ ─ ─ ─ ─ ─ ─ ─ ─ ─   │                             │                           │<br>                             │         o_orderkey        │                             │                           │<br>                             └─────────────┬─────────────┘                             └───────────────────────────┘                             <br>                             ┌─────────────┴─────────────┐                                                          <br>                             │         HASH_JOIN         │                                                          <br>                             │   ─ ─ ─ ─ ─ ─ ─ ─ ─ ─ ─   │                                                          <br>                             │           INNER           │                                                          <br>                             │  l_orderkey = o_orderkey  ├──────────────┐                                           <br>                             │   ─ ─ ─ ─ ─ ─ ─ ─ ─ ─ ─   │              │                                           <br>                             │        EC: 1200243        │              │                                           <br>                             └─────────────┬─────────────┘              │                                                                        <br>                             ┌─────────────┴─────────────┐┌─────────────┴─────────────┐                             <br>                             │           FILTER          ││         DELIM_SCAN        │                             <br>                             │   ─ ─ ─ ─ ─ ─ ─ ─ ─ ─ ─   ││                           │                             <br>                             │      (l_commitdate <      ││                           │                             <br>                             │       l_receiptdate)      ││                           │                             <br>                             │   ─ ─ ─ ─ ─ ─ ─ ─ ─ ─ ─   ││                           │                             <br>                             │        EC: 6001215        ││                           │                             <br>                             └─────────────┬─────────────┘└───────────────────────────┘                                                          <br>                             ┌─────────────┴─────────────┐                                                          <br>                             │         SEQ_SCAN          │                                                          <br>                             │   ─ ─ ─ ─ ─ ─ ─ ─ ─ ─ ─   │                                                          <br>                             │          lineitem         │                                                          <br>                             │   ─ ─ ─ ─ ─ ─ ─ ─ ─ ─ ─   │                                                          <br>                             │         l_orderkey        │                                                          <br>                             │        l_commitdate       │                                                          <br>                             │       l_receiptdate       │                                                          <br>                             │   ─ ─ ─ ─ ─ ─ ─ ─ ─ ─ ─   │                                                          <br>                             │        EC: 6001215        │                                                          <br>                             └───────────────────────────┘                                                                                       <br></td>\n",
       "        </tr>\n",
       "    </tbody>\n",
       "</table>"
      ],
      "text/plain": [
       "+---------------+---------------------------------------------------------------------------------------------------------------------------------------------------+\n",
       "|  explain_key  |                                                                   explain_value                                                                   |\n",
       "+---------------+---------------------------------------------------------------------------------------------------------------------------------------------------+\n",
       "| physical_plan |                ┌───────────────────────────┐                                                                                                      |\n",
       "|               |                │         PROJECTION        │                                                                                                      |\n",
       "|               |                │   ─ ─ ─ ─ ─ ─ ─ ─ ─ ─ ─   │                                                                                                      |\n",
       "|               |                │__internal_decompress_strin│                                                                                                      |\n",
       "|               |                │           g(#0)           │                                                                                                      |\n",
       "|               |                │             #1            │                                                                                                      |\n",
       "|               | └─────────────┬─────────────┘                                                                                                                     |\n",
       "|               |                ┌─────────────┴─────────────┐                                                                                                      |\n",
       "|               |                │          ORDER_BY         │                                                                                                      |\n",
       "|               |                │   ─ ─ ─ ─ ─ ─ ─ ─ ─ ─ ─   │                                                                                                      |\n",
       "|               |                │          ORDERS:          │                                                                                                      |\n",
       "|               |                │ orders.o_orderpriority ASC│                                                                                                      |\n",
       "|               | └─────────────┬─────────────┘                                                                                                                     |\n",
       "|               |                ┌─────────────┴─────────────┐                                                                                                      |\n",
       "|               |                │         PROJECTION        │                                                                                                      |\n",
       "|               |                │   ─ ─ ─ ─ ─ ─ ─ ─ ─ ─ ─   │                                                                                                      |\n",
       "|               |                │__internal_compress_string_│                                                                                                      |\n",
       "|               |                │        hugeint(#0)        │                                                                                                      |\n",
       "|               |                │             #1            │                                                                                                      |\n",
       "|               | └─────────────┬─────────────┘                                                                                                                     |\n",
       "|               |                ┌─────────────┴─────────────┐                                                                                                      |\n",
       "|               |                │         PROJECTION        │                                                                                                      |\n",
       "|               |                │   ─ ─ ─ ─ ─ ─ ─ ─ ─ ─ ─   │                                                                                                      |\n",
       "|               |                │__internal_decompress_strin│                                                                                                      |\n",
       "|               |                │           g(#0)           │                                                                                                      |\n",
       "|               |                │             #1            │                                                                                                      |\n",
       "|               | └─────────────┬─────────────┘                                                                                                                     |\n",
       "|               |                ┌─────────────┴─────────────┐                                                                                                      |\n",
       "|               |                │       HASH_GROUP_BY       │                                                                                                      |\n",
       "|               |                │   ─ ─ ─ ─ ─ ─ ─ ─ ─ ─ ─   │                                                                                                      |\n",
       "|               |                │             #0            │                                                                                                      |\n",
       "|               |                │        count_star()       │                                                                                                      |\n",
       "|               | └─────────────┬─────────────┘                                                                                                                     |\n",
       "|               |                ┌─────────────┴─────────────┐                                                                                                      |\n",
       "|               |                │         PROJECTION        │                                                                                                      |\n",
       "|               |                │   ─ ─ ─ ─ ─ ─ ─ ─ ─ ─ ─   │                                                                                                      |\n",
       "|               |                │      o_orderpriority      │                                                                                                      |\n",
       "|               | └─────────────┬─────────────┘                                                                                                                     |\n",
       "|               |                ┌─────────────┴─────────────┐                                                                                                      |\n",
       "|               |                │         PROJECTION        │                                                                                                      |\n",
       "|               |                │   ─ ─ ─ ─ ─ ─ ─ ─ ─ ─ ─   │                                                                                                      |\n",
       "|               |                │__internal_compress_integra│                                                                                                      |\n",
       "|               |                │     l_uinteger(#0, 1)     │                                                                                                      |\n",
       "|               |                │__internal_compress_string_│                                                                                                      |\n",
       "|               |                │        hugeint(#1)        │                                                                                                      |\n",
       "|               | └─────────────┬─────────────┘                                                                                                                     |\n",
       "|               |                ┌─────────────┴─────────────┐                                                                                                      |\n",
       "|               |                │      RIGHT_DELIM_JOIN     │                                                                                                      |\n",
       "|               |                │   ─ ─ ─ ─ ─ ─ ─ ─ ─ ─ ─   │                                                                                                      |\n",
       "|               |                │         RIGHT_SEMI        │                                                                                                      |\n",
       "|               |                │ o_orderkey IS NOT DISTINCT├──────────────┐                                                                                       |\n",
       "|               |                │       FROM o_orderkey     │              │                                                                                       |\n",
       "|               |                │   ─ ─ ─ ─ ─ ─ ─ ─ ─ ─ ─   │              │                                                                                       |\n",
       "|               |                │        EC: 1200243        │              │                                                                                       |\n",
       "|               | └─────────────┬─────────────┘              │                                                                                                      |\n",
       "|               |                ┌─────────────┴─────────────┐┌─────────────┴─────────────┐                                                                         |\n",
       "|               |                │         SEQ_SCAN          ││         HASH_JOIN         │                                                                         |\n",
       "|               |                │   ─ ─ ─ ─ ─ ─ ─ ─ ─ ─ ─   ││   ─ ─ ─ ─ ─ ─ ─ ─ ─ ─ ─   │                                                                         |\n",
       "|               |                │           orders          ││         RIGHT_SEMI        │                                                                         |\n",
       "|               |                │   ─ ─ ─ ─ ─ ─ ─ ─ ─ ─ ─   ││ o_orderkey IS NOT DISTINCT│                                                                         |\n",
       "|               |                │         o_orderkey        ││       FROM o_orderkey     │                                                                         |\n",
       "|               |                │      o_orderpriority      ││   ─ ─ ─ ─ ─ ─ ─ ─ ─ ─ ─   │                                                                         |\n",
       "|               |                │   ─ ─ ─ ─ ─ ─ ─ ─ ─ ─ ─   ││        EC: 1200243        ├───────────────────────────────────────────┐                             |\n",
       "|               |                │Filters: o_orderdate>='1993││                           │                                           │                             |\n",
       "|               |                │     -07-01'::DATE AND     ││                           │                                           │                             |\n",
       "|               |                │ o_orderdate<'1993-10-...  ││                           │                                           │                             |\n",
       "|               |                │   o_orderdate IS NOT NULL ││                           │                                           │                             |\n",
       "|               |                │   ─ ─ ─ ─ ─ ─ ─ ─ ─ ─ ─   ││                           │                                           │                             |\n",
       "|               |                │         EC: 300000        ││                           │                                           │                             |\n",
       "|               | └───────────────────────────┘└─────────────┬─────────────┘                                           │                                            |\n",
       "|               |                                             ┌─────────────┴─────────────┐                             ┌─────────────┴─────────────┐               |\n",
       "|               |                                             │         PROJECTION        │                             │         DUMMY_SCAN        │               |\n",
       "|               |                                             │   ─ ─ ─ ─ ─ ─ ─ ─ ─ ─ ─   │                             │                           │               |\n",
       "|               |                                             │         o_orderkey        │                             │                           │               |\n",
       "|               |                              └─────────────┬─────────────┘                             └───────────────────────────┘                              |\n",
       "|               |                                             ┌─────────────┴─────────────┐                                                                         |\n",
       "|               |                                             │         HASH_JOIN         │                                                                         |\n",
       "|               |                                             │   ─ ─ ─ ─ ─ ─ ─ ─ ─ ─ ─   │                                                                         |\n",
       "|               |                                             │           INNER           │                                                                         |\n",
       "|               |                                             │  l_orderkey = o_orderkey  ├──────────────┐                                                          |\n",
       "|               |                                             │   ─ ─ ─ ─ ─ ─ ─ ─ ─ ─ ─   │              │                                                          |\n",
       "|               |                                             │        EC: 1200243        │              │                                                          |\n",
       "|               |                              └─────────────┬─────────────┘              │                                                                         |\n",
       "|               |                                             ┌─────────────┴─────────────┐┌─────────────┴─────────────┐                                            |\n",
       "|               |                                             │           FILTER          ││         DELIM_SCAN        │                                            |\n",
       "|               |                                             │   ─ ─ ─ ─ ─ ─ ─ ─ ─ ─ ─   ││                           │                                            |\n",
       "|               |                                             │      (l_commitdate <      ││                           │                                            |\n",
       "|               |                                             │       l_receiptdate)      ││                           │                                            |\n",
       "|               |                                             │   ─ ─ ─ ─ ─ ─ ─ ─ ─ ─ ─   ││                           │                                            |\n",
       "|               |                                             │        EC: 6001215        ││                           │                                            |\n",
       "|               |                              └─────────────┬─────────────┘└───────────────────────────┘                                                           |\n",
       "|               |                                             ┌─────────────┴─────────────┐                                                                         |\n",
       "|               |                                             │         SEQ_SCAN          │                                                                         |\n",
       "|               |                                             │   ─ ─ ─ ─ ─ ─ ─ ─ ─ ─ ─   │                                                                         |\n",
       "|               |                                             │          lineitem         │                                                                         |\n",
       "|               |                                             │   ─ ─ ─ ─ ─ ─ ─ ─ ─ ─ ─   │                                                                         |\n",
       "|               |                                             │         l_orderkey        │                                                                         |\n",
       "|               |                                             │        l_commitdate       │                                                                         |\n",
       "|               |                                             │       l_receiptdate       │                                                                         |\n",
       "|               |                                             │   ─ ─ ─ ─ ─ ─ ─ ─ ─ ─ ─   │                                                                         |\n",
       "|               |                                             │        EC: 6001215        │                                                                         |\n",
       "|               |                              └───────────────────────────┘                                                                                        |\n",
       "|               |                                                                                                                                                   |\n",
       "+---------------+---------------------------------------------------------------------------------------------------------------------------------------------------+"
      ]
     },
     "execution_count": 17,
     "metadata": {},
     "output_type": "execute_result"
    }
   ],
   "source": [
    "%%sql explain SELECT\n",
    "o_orderpriority,\n",
    "count(*) AS order_count\n",
    "FROM\n",
    "orders\n",
    "WHERE\n",
    "o_orderdate >= CAST('1993-07-01' AS date)\n",
    "AND o_orderdate < CAST('1993-10-01' AS date)\n",
    "AND EXISTS (\n",
    "SELECT\n",
    "*\n",
    "FROM\n",
    "lineitem\n",
    "WHERE\n",
    "l_orderkey = o_orderkey\n",
    "AND l_commitdate < l_receiptdate)\n",
    "GROUP BY\n",
    "o_orderpriority\n",
    "ORDER BY\n",
    "o_orderpriority;"
   ]
  },
  {
   "cell_type": "code",
   "execution_count": null,
   "metadata": {},
   "outputs": [],
   "source": []
  }
 ],
 "metadata": {
  "kernelspec": {
   "display_name": "base",
   "language": "python",
   "name": "python3"
  },
  "language_info": {
   "codemirror_mode": {
    "name": "ipython",
    "version": 3
   },
   "file_extension": ".py",
   "mimetype": "text/x-python",
   "name": "python",
   "nbconvert_exporter": "python",
   "pygments_lexer": "ipython3",
   "version": "3.9.16"
  }
 },
 "nbformat": 4,
 "nbformat_minor": 2
}
